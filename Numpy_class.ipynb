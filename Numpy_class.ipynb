{
 "cells": [
  {
   "cell_type": "code",
   "execution_count": 53,
   "id": "a9b2628b",
   "metadata": {},
   "outputs": [],
   "source": [
    "import numpy as np\n",
    "import pandas as pd\n",
    "import matplotlib as plt"
   ]
  },
  {
   "cell_type": "markdown",
   "id": "49065aa9",
   "metadata": {},
   "source": [
    "### Array creation and basic properties"
   ]
  },
  {
   "cell_type": "code",
   "execution_count": 45,
   "id": "b0e1a04b",
   "metadata": {},
   "outputs": [
    {
     "name": "stdout",
     "output_type": "stream",
     "text": [
      "[1 2 3]\n",
      "1\n",
      "(2, 2)\n",
      "int32\n"
     ]
    }
   ],
   "source": [
    "# this is how you create a numpy array\n",
    "a = np.array([1, 2, 3])\n",
    "b = np.array([[1.5, 2.5], \n",
    "              [3.5, 4.5]])\n",
    "\n",
    "print(a)\n",
    "\n",
    "# We can print the number of dimensions of a list using the ndim attribute\n",
    "print(a.ndim)\n",
    "\n",
    "# shape of array\n",
    "print(b.shape)\n",
    "\n",
    "# datatype of array\n",
    "print(a.dtype)\n"
   ]
  },
  {
   "cell_type": "code",
   "execution_count": 19,
   "id": "3d39d18f",
   "metadata": {},
   "outputs": [
    {
     "name": "stdout",
     "output_type": "stream",
     "text": [
      "[[0. 0. 0.]\n",
      " [0. 0. 0.]]\n",
      "-----\n",
      "[[1. 1. 1.]\n",
      " [1. 1. 1.]]\n"
     ]
    }
   ],
   "source": [
    "## using the following numpy functions you can create arrays with arbitrary dimensions and fill it up with some initial value\n",
    "# either ones or zeros\n",
    "d = np.zeros((2,3))\n",
    "print(d)\n",
    "\n",
    "print('-----')\n",
    "\n",
    "e = np.ones((2,3))\n",
    "print(e)"
   ]
  },
  {
   "cell_type": "code",
   "execution_count": 28,
   "id": "182924ff",
   "metadata": {},
   "outputs": [
    {
     "data": {
      "text/plain": [
       "array([[0.82786655, 0.2918201 , 0.94005885],\n",
       "       [0.48061767, 0.73222301, 0.09676656],\n",
       "       [0.58486725, 0.47237684, 0.66154953]])"
      ]
     },
     "execution_count": 28,
     "metadata": {},
     "output_type": "execute_result"
    }
   ],
   "source": [
    "# We can also generate an array with random numbers\n",
    "rand_array = np.random.rand(3,3)\n",
    "rand_array"
   ]
  },
  {
   "cell_type": "markdown",
   "id": "e71dc9d5",
   "metadata": {},
   "source": [
    "### Array operations"
   ]
  },
  {
   "cell_type": "code",
   "execution_count": 24,
   "id": "baddc278",
   "metadata": {},
   "outputs": [
    {
     "name": "stdout",
     "output_type": "stream",
     "text": [
      "[ 9 18 27 36]\n",
      "[ 10  40  90 160]\n"
     ]
    }
   ],
   "source": [
    "# Arithmetic operators on array apply elementwise.\n",
    "\n",
    "# Let's create a couple of arrays\n",
    "a = np.array([10,20,30,40])\n",
    "b = np.array([1, 2, 3,4])\n",
    "\n",
    "# Now let's look at a minus b\n",
    "c = a - b\n",
    "print(c)\n",
    "\n",
    "# And let's look at a times b\n",
    "d = a * b\n",
    "print(d)"
   ]
  },
  {
   "cell_type": "code",
   "execution_count": 30,
   "id": "9bf8f620",
   "metadata": {},
   "outputs": [
    {
     "data": {
      "text/plain": [
       "array([[ True, False,  True],\n",
       "       [False,  True, False],\n",
       "       [ True, False,  True]])"
      ]
     },
     "execution_count": 30,
     "metadata": {},
     "output_type": "execute_result"
    }
   ],
   "source": [
    "# boolean operation on np arrays\n",
    "rand_array >= 0.5"
   ]
  },
  {
   "cell_type": "code",
   "execution_count": 35,
   "id": "e9c6c803",
   "metadata": {},
   "outputs": [
    {
     "name": "stdout",
     "output_type": "stream",
     "text": [
      "elementwise product:\n",
      "[[2 0]\n",
      " [0 4]] \n",
      "\n",
      "matrix multiplication:\n",
      "[[5 4]\n",
      " [3 4]] \n",
      "\n"
     ]
    }
   ],
   "source": [
    "# numpy supports matrix manipulation. Let's\n",
    "# look at matrix product. if we want to do elementwise product, we use the \"*\" sign\n",
    "A = np.array([[1,1],\n",
    "              [0,1]])\n",
    "\n",
    "B = np.array([[2,0],\n",
    "              [3,4]])\n",
    "print('elementwise product:')\n",
    "print(A*B, '\\n')\n",
    "\n",
    "# if we want to do matrix product, we use the \"@\" sign or use the dot function\n",
    "print('matrix multiplication:')\n",
    "print(A@B, '\\n')"
   ]
  },
  {
   "cell_type": "markdown",
   "id": "ad6bd961",
   "metadata": {},
   "source": [
    "#### Some useful array operations for Machine Learning algorithms"
   ]
  },
  {
   "cell_type": "code",
   "execution_count": 44,
   "id": "6e57396f",
   "metadata": {},
   "outputs": [
    {
     "name": "stdout",
     "output_type": "stream",
     "text": [
      "[[14 20]\n",
      " [30 44]\n",
      " [ 4  6]]\n",
      "------\n",
      "[[14 30  4]\n",
      " [20 44  6]]\n"
     ]
    }
   ],
   "source": [
    "# .dot function\n",
    "# does matrix multiplication on N dim arrays, But on 1D arrays calculates inner product\n",
    "first = np.array([1, 2.5, 1.25])\n",
    "second = np.array([5, 2, 4])\n",
    "\n",
    "## on 1-D arrays\n",
    "first.dot(second) #inner product: scalar\n",
    "\n",
    "# on N-D arrays\n",
    "X = np.array([[2, 4],\n",
    "              [6, 8],\n",
    "              [1, 1]])   # 3x2\n",
    "\n",
    "Y = np.array([[1, 2],\n",
    "              [3, 4]]) # must be 2xN\n",
    "\n",
    "print(X.dot(Y))\n",
    "\n",
    "# now what happens if dimmensions do not match\n",
    "#Y.dot(X) will throw error\n",
    "print('------')\n",
    "#lets fix it using transposition\n",
    "# X.T is transpose of matrix X\n",
    "print((Y.T).dot(X.T))\n",
    "\n"
   ]
  },
  {
   "cell_type": "markdown",
   "id": "3140f6f2",
   "metadata": {},
   "source": [
    "###### <bold>exercise:</bold> add ones along the second axis to a 2x1 array, using numpy functions."
   ]
  },
  {
   "cell_type": "code",
   "execution_count": 52,
   "id": "a522f8bb",
   "metadata": {},
   "outputs": [
    {
     "name": "stdout",
     "output_type": "stream",
     "text": [
      "before: \n",
      " [[0.]\n",
      " [2.]]\n",
      "after: \n",
      " [[1. 0.]\n",
      " [1. 2.]]\n"
     ]
    }
   ],
   "source": [
    "# we use np.c_ function for this purpose\n",
    "X1 = np.array([[0.], \n",
    "               [2.]])\n",
    "X1_new = np.c_[np.ones((2, 1)), X1]\n",
    "\n",
    "print('before: \\n', X1)\n",
    "print('after: \\n', X1_new)\n",
    "\n",
    "#will be used in adding bias to the feature vector (don't worry if you didn't understand this now, \n",
    "#comeback to this cell after learning about Linear regression)"
   ]
  },
  {
   "cell_type": "code",
   "execution_count": 57,
   "id": "2d244e32",
   "metadata": {},
   "outputs": [
    {
     "data": {
      "image/png": "[encoded data removed]",
      "text/plain": [
       "<PIL.Image.Image image mode=L size=225x225 at 0x1746B535BB0>"
      ]
     },
     "metadata": {},
     "output_type": "display_data"
    }
   ],
   "source": [
    "from PIL import Image, ImageOps\n",
    "from IPython.display import display\n",
    "\n",
    "# And let's just look at the image I'm talking about\n",
    "lecun = Image.open('images/LeCun.jfif')\n",
    "im = ImageOps.grayscale(lecun)\n",
    "display(im)"
   ]
  },
  {
   "cell_type": "code",
   "execution_count": 61,
   "id": "9f23b77e",
   "metadata": {},
   "outputs": [
    {
     "name": "stdout",
     "output_type": "stream",
     "text": [
      "(225, 225)\n"
     ]
    },
    {
     "data": {
      "text/plain": [
       "array([[223, 222, 222, ..., 207, 207, 205],\n",
       "       [221, 221, 221, ..., 206, 206, 204],\n",
       "       [218, 218, 218, ..., 205, 205, 203],\n",
       "       ...,\n",
       "       [ 69,  68,  67, ...,  91,  98, 107],\n",
       "       [ 74,  74,  73, ...,  85,  91,  99],\n",
       "       [ 70,  69,  64, ...,  87,  88,  97]], dtype=uint8)"
      ]
     },
     "execution_count": 61,
     "metadata": {},
     "output_type": "execute_result"
    }
   ],
   "source": [
    "# Now, we can convert this PIL image to a numpy array\n",
    "array=np.array(im)\n",
    "print(array.shape)\n",
    "array"
   ]
  },
  {
   "cell_type": "code",
   "execution_count": 62,
   "id": "a7949d27",
   "metadata": {},
   "outputs": [
    {
     "data": {
      "text/plain": [
       "array([[255, 255, 255, ..., 255, 255, 255],\n",
       "       [255, 255, 255, ..., 255, 255, 255],\n",
       "       [255, 255, 255, ..., 255, 255, 255],\n",
       "       ...,\n",
       "       [255, 255, 255, ..., 255, 255, 255],\n",
       "       [255, 255, 255, ..., 255, 255, 255],\n",
       "       [255, 255, 255, ..., 255, 255, 255]])"
      ]
     },
     "execution_count": 62,
     "metadata": {},
     "output_type": "execute_result"
    }
   ],
   "source": [
    "# Let's create an array the same shape\n",
    "mask=np.full(array.shape,255)\n",
    "mask"
   ]
  },
  {
   "cell_type": "code",
   "execution_count": 86,
   "id": "6b749b6d",
   "metadata": {},
   "outputs": [
    {
     "data": {
      "text/plain": [
       "array([[ 32,  33,  33, ...,  48,  48,  50],\n",
       "       [ 34,  34,  34, ...,  49,  49,  51],\n",
       "       [ 37,  37,  37, ...,  50,  50,  52],\n",
       "       ...,\n",
       "       [186, 187, 188, ..., 164, 157, 148],\n",
       "       [181, 181, 182, ..., 170, 164, 156],\n",
       "       [185, 186, 191, ..., 168, 167, 158]], dtype=uint8)"
      ]
     },
     "execution_count": 86,
     "metadata": {},
     "output_type": "execute_result"
    }
   ],
   "source": [
    "# Now let's subtract that from the modified array\n",
    "modified_array=array-mask\n",
    "modified_array*=-1\n",
    "\n",
    "# And as a last step, let's tell numpy to set the value of the datatype correctly\n",
    "modified_array=modified_array.astype(np.uint8)\n",
    "modified_array"
   ]
  },
  {
   "cell_type": "code",
   "execution_count": 87,
   "id": "d6fa46e9",
   "metadata": {},
   "outputs": [
    {
     "data": {
      "image/png": "[encoded data removed]",
      "text/plain": [
       "<PIL.Image.Image image mode=L size=225x225 at 0x1746B55A190>"
      ]
     },
     "metadata": {},
     "output_type": "display_data"
    }
   ],
   "source": [
    "#convert back to image\n",
    "display(Image.fromarray(modified_array))"
   ]
  },
  {
   "cell_type": "markdown",
   "id": "01fda4c5",
   "metadata": {},
   "source": [
    "### Slicing, Indexing"
   ]
  },
  {
   "cell_type": "code",
   "execution_count": 95,
   "id": "caa11a55",
   "metadata": {},
   "outputs": [
    {
     "name": "stdout",
     "output_type": "stream",
     "text": [
      "[ 1 -1  0]\n",
      "0\n",
      "12\n"
     ]
    }
   ],
   "source": [
    "#indexing\n",
    "a = np.array([1, -1, 0])\n",
    "\n",
    "b = np.array([[1, 3,  5,  7], \n",
    "             [1, 12, 13, 14]])\n",
    "print(a)\n",
    "print(a[2])\n",
    "print(b[1,1])\n",
    "\n",
    "# similar to the standard python lists"
   ]
  },
  {
   "cell_type": "code",
   "execution_count": 96,
   "id": "533f3d38",
   "metadata": {},
   "outputs": [
    {
     "name": "stdout",
     "output_type": "stream",
     "text": [
      "[0 1 2]\n",
      "[2 3]\n"
     ]
    }
   ],
   "source": [
    "#slicing\n",
    "a = np.array([0,1,2,3,4,5])\n",
    "print(a[:3])\n",
    "print(a[2:4])"
   ]
  },
  {
   "cell_type": "code",
   "execution_count": 102,
   "id": "43871f4d",
   "metadata": {},
   "outputs": [
    {
     "name": "stdout",
     "output_type": "stream",
     "text": [
      "[[ 1  2  3  4]\n",
      " [ 5  6  7  8]\n",
      " [ 9 10 11 12]] \n",
      "\n",
      "[[1 2 3 4]\n",
      " [5 6 7 8]] \n",
      "\n",
      "[[5]\n",
      " [9]]\n"
     ]
    }
   ],
   "source": [
    "a = np.array([[1,2,3,4], [5,6,7,8], [9,10,11,12]])\n",
    "print(a, '\\n')\n",
    "print(a[:2], '\\n')\n",
    "print(a[1:3, :1])"
   ]
  }
 ],
 "metadata": {
  "kernelspec": {
   "display_name": "Python 3 (ipykernel)",
   "language": "python",
   "name": "python3"
  },
  "language_info": {
   "codemirror_mode": {
    "name": "ipython",
    "version": 3
   },
   "file_extension": ".py",
   "mimetype": "text/x-python",
   "name": "python",
   "nbconvert_exporter": "python",
   "pygments_lexer": "ipython3",
   "version": "3.9.6"
  }
 },
 "nbformat": 4,
 "nbformat_minor": 5
}
